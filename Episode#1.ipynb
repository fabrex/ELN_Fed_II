{
 "cells": [
  {
   "cell_type": "markdown",
   "metadata": {},
   "source": [
    "# The Tab Menace\n",
    "\n",
    "## Unveling the path of the Python force\n",
    "\n",
    "Just fiddling about with this awesome notebook. Let's see what we can do...\n",
    "\n",
    "If today you feel really __\"bold\"__ you should definitely use the write it like this:\n",
    "\n",
    "- **\\__feeling bold, man!\\__**\n",
    "\n",
    "Uhm...or maybe also like this:\n",
    "\n",
    "- __\\*\\*BOLD Life\\*\\*__\n",
    "\n",
    "If you feel *italic*...uhm...I don't know any silly joke with this damn word. Just write it as follows:\n",
    "\n",
    "- \\**forget about silly jokes*\\*\n",
    "\n",
    "- \\__no more silly jokes, I swear!_\\_\n",
    "\n",
    "If you need to underline that I need to stop wasting your time and get to the point, you have to do using `<u>` HTML tags:\n",
    "\n",
    "- `<u>`<u>Fabrizio, stop it now!</u>`</u>`\n",
    "\n",
    "Oh...just one more thing and then I'm done. If you need to put your comments about this class in a list, you just need to use hyphens ('-') or numbers (decreasing order, obviosuly):\n",
    "\n",
    "- `-` first comment\n",
    "- `-` second comment\n",
    "    - `-` third comment\n",
    "\n",
    "\n",
    "1. again, first comment\n",
    "2. again, second comment\n",
    "    1. We got it, dude!\n",
    "\n"
   ]
  },
  {
   "cell_type": "code",
   "execution_count": null,
   "metadata": {
    "collapsed": true
   },
   "outputs": [],
   "source": []
  }
 ],
 "metadata": {
  "celltoolbar": "Slideshow",
  "kernelspec": {
   "display_name": "Python 3",
   "language": "python",
   "name": "python3"
  },
  "language_info": {
   "codemirror_mode": {
    "name": "ipython",
    "version": 3
   },
   "file_extension": ".py",
   "mimetype": "text/x-python",
   "name": "python",
   "nbconvert_exporter": "python",
   "pygments_lexer": "ipython3",
   "version": "3.4.3"
  }
 },
 "nbformat": 4,
 "nbformat_minor": 0
}
